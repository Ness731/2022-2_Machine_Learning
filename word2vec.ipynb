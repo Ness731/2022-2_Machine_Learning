{
  "nbformat": 4,
  "nbformat_minor": 0,
  "metadata": {
    "colab": {
      "provenance": [],
      "authorship_tag": "ABX9TyO5G92+3uPfMeUO3V0wV4eP",
      "include_colab_link": true
    },
    "kernelspec": {
      "name": "python3",
      "display_name": "Python 3"
    },
    "language_info": {
      "name": "python"
    }
  },
  "cells": [
    {
      "cell_type": "markdown",
      "metadata": {
        "id": "view-in-github",
        "colab_type": "text"
      },
      "source": [
        "<a href=\"https://colab.research.google.com/github/Ness731/2022-2_Machine_Learning/blob/main/word2vec.ipynb\" target=\"_parent\"><img src=\"https://colab.research.google.com/assets/colab-badge.svg\" alt=\"Open In Colab\"/></a>"
      ]
    },
    {
      "cell_type": "code",
      "source": [
        "## Word2Vector model : 정적 임베딩 모델\n",
        "import pandas as pd\n",
        "import numpy as np\n",
        "import tensorflow.compat.v1 as tf # tensorflow 1 버전 사용을 위해 python 다운그레이드 필요\n",
        "import matplotlib.pyplot as plt\n",
        "tf.compat.v1.disable_eager_execution()"
      ],
      "metadata": {
        "id": "SxlxAuHpDfZa"
      },
      "execution_count": 4,
      "outputs": []
    },
    {
      "cell_type": "code",
      "source": [
        "## 1. 모델이 학습할 말뭉치(corpus) 정의\n",
        "corpus = ['king is a strong man',\n",
        "          'queen is a wise woman',\n",
        "          'boy is a young man',\n",
        "          'girl is a young woman',\n",
        "          'prince is a young king',\n",
        "          'princess is a young queen',\n",
        "          'man is strong',\n",
        "          'woman is pretty',\n",
        "          'prince is a boy will be king',\n",
        "          'princess is a girl will be queen']\n",
        "\n",
        "\n",
        "## 2. 모델 성능 향상을 위한 문법 요소 제거\n",
        "def remove_stop_words(corpus):\n",
        "    stop_words = ['is', 'a', 'will', 'be']  # 제거할 문법 요소들\n",
        "    results = []\n",
        "    for text in corpus: # corpus 안의 각 문장에 대해\n",
        "        tmp = text.split(' ')  # 공백 문자 기준으로 토큰화하여 단어 리스트 생성\n",
        "        for stop_word in stop_words:\n",
        "            if stop_word in tmp:  # 단어 리스트 안에 제거할 요소가 있다면\n",
        "                tmp.remove(stop_word)\n",
        "        results.append(\" \".join(tmp)) # 공백 문자를 구분자로 단어 리스트의 모든 요소를 합침\n",
        "    return results\n",
        "\n",
        "\n",
        "corpus = remove_stop_words(corpus)\n",
        "\n",
        "words = []\n",
        "for text in corpus:\n",
        "    for word in text.split(' '):\n",
        "        words.append(word) # 정제된 단어들로 리스트를 생성\n",
        "\n",
        "words = set(words) # set() : 중복되는 원소를 삭제하는 함수"
      ],
      "metadata": {
        "id": "3IIfjJIKDDwl"
      },
      "execution_count": 5,
      "outputs": []
    },
    {
      "cell_type": "code",
      "source": [
        "## 3. 학습 데이터 생성\n",
        "word2int = {} # 빈 딕셔너리\n",
        "\n",
        "for i, word in enumerate(words):\n",
        "    word2int[word] = i # 각 단어들을 매핑되는 인덱스로 변환\n",
        "\n",
        "sentences = []\n",
        "for sentence in corpus:\n",
        "    sentences.append(sentence.split()) # 문장을 단어 단위로 쪼개서 리스트로 구성\n",
        "# sentences = [['king', 'is', 'a', 'strong', 'man'], ['queen', 'is', 'a', 'wise', 'woman'] ...]\n",
        "\n",
        "WINDOW_SIZE = 2\n",
        "data = []\n",
        "for sentence in sentences: # sentense = 단어가 쪼개져있는 문장 리스트\n",
        "    for idx, word in enumerate(sentence):\n",
        "        # sentence[startIndex : endIndex] : 문장 내의 각 단어를 슬라이싱 = sliding window 적용\n",
        "        for neighbor in sentence[max(idx - WINDOW_SIZE, 0): min(idx + WINDOW_SIZE, len(sentence)) + 1]:\n",
        "            if neighbor != word: # 타겟 단어일 경우 건너뛰기\n",
        "                data.append([word, neighbor]) # 타겟 단어와 이웃하는 단어일 경우 테이블에 추가\n",
        "# data = [['king', 'strong'], ['king', 'man'], ['strong', 'king'], ['strong', 'man'] ...]\n",
        "\n",
        "df = pd.DataFrame(data, columns = ['input', 'label'])"
      ],
      "metadata": {
        "id": "NT9W_gfODBSl"
      },
      "execution_count": 6,
      "outputs": []
    },
    {
      "cell_type": "code",
      "source": [
        "## 4. 원핫 인코딩\n",
        "ONE_HOT_DIM = len(words) # 인코딩 벡터 차원은 단어의 개수와 동일 = 12개\n",
        "\n",
        "# 원핫 인코딩 함수\n",
        "def to_one_hot_encoding(data_point_index):\n",
        "    one_hot_encoding = np.zeros(ONE_HOT_DIM) # 나머지는 0으로 채우기\n",
        "    one_hot_encoding[data_point_index] = 1 # 인덱스에 해당하는 차원 값만 1로 변환\n",
        "    return one_hot_encoding\n",
        "\n",
        "X = [] # input word\n",
        "Y = [] # target word\n",
        "\n",
        "# df['input'] = king, king, strong, ...\n",
        "# df['label'] = strong, man, king, ...\n",
        "# word2int = 각 단어를 인덱싱한 딕셔너리 = {'boy': 2, 'girl': 10, ...}\n",
        "for x, y in zip(df['input'], df['label']):\n",
        "    X.append(to_one_hot_encoding(word2int[ x ])) # 'boy'의 경우 [0, 1, 0, ..., 0] 으로 변환\n",
        "    Y.append(to_one_hot_encoding(word2int[ y ]))\n",
        "\n",
        "\n",
        "# 모델 학습을 위해 넘파이 행렬로 변환\n",
        "X_train = np.asarray(X)\n",
        "Y_train = np.asarray(Y)\n",
        "\n",
        "# making placeholders for X_train and Y_train\n",
        "x = tf.placeholder(tf.float32, shape=(None, ONE_HOT_DIM))\n",
        "y_label = tf.placeholder(tf.float32, shape=(None, ONE_HOT_DIM))\n",
        "\n",
        "# 2차원 시각화를 위해 임베딩 행렬은 2차원으로 구성\n",
        "EMBEDDING_DIM = 2\n",
        "\n",
        "# hidden layer에 사용되는 가중치 행렬 W1 초기화\n",
        "W1 = tf.Variable(tf.random_normal([ONE_HOT_DIM, EMBEDDING_DIM]))\n",
        "b1 = tf.Variable(tf.random_normal([1])) #bias\n",
        "hidden_layer = tf.add(tf.matmul(x,W1), b1)\n",
        "\n",
        "# output layer에 사용되는 가중치 행렬 W2 초기화\n",
        "W2 = tf.Variable(tf.random_normal([EMBEDDING_DIM, ONE_HOT_DIM]))\n",
        "b2 = tf.Variable(tf.random_normal([1]))\n",
        "prediction = tf.nn.softmax(tf.add( tf.matmul(hidden_layer, W2), b2))\n",
        "\n",
        "# loss function: cross entropy\n",
        "loss = tf.reduce_mean(-tf.reduce_sum(y_label * tf.log(prediction), axis=[1]))\n",
        "\n",
        "# training operation\n",
        "train_op = tf.train.GradientDescentOptimizer(0.05).minimize(loss)"
      ],
      "metadata": {
        "id": "tfazL9lnC8j3"
      },
      "execution_count": 7,
      "outputs": []
    },
    {
      "cell_type": "code",
      "execution_count": 8,
      "metadata": {
        "colab": {
          "base_uri": "https://localhost:8080/"
        },
        "id": "HHnGuRQHC1R7",
        "outputId": "3cc739cd-e8dd-4e2b-a771-15978ac6a44b"
      },
      "outputs": [
        {
          "output_type": "stream",
          "name": "stdout",
          "text": [
            "iteration 0 loss is :  3.235706\n",
            "iteration 3000 loss is :  1.7958575\n",
            "iteration 6000 loss is :  1.7488321\n",
            "iteration 9000 loss is :  1.7286115\n",
            "iteration 12000 loss is :  1.7166026\n",
            "iteration 15000 loss is :  1.7085935\n",
            "iteration 18000 loss is :  1.7026875\n"
          ]
        }
      ],
      "source": [
        "## 5. 모델 학습\n",
        "sess = tf.Session()\n",
        "init = tf.global_variables_initializer()\n",
        "sess.run(init)\n",
        "\n",
        "epoch = 20000\n",
        "for i in range(epoch):\n",
        "    sess.run(train_op, feed_dict={x: X_train, y_label: Y_train})\n",
        "\n",
        "    if i % 3000 == 0:\n",
        "        print('iteration ' + str(i) + ' loss is : ', sess.run(loss, feed_dict={x: X_train, y_label: Y_train}))"
      ]
    },
    {
      "cell_type": "code",
      "source": [
        "## 6. 시각화\n",
        "vectors = sess.run(W1 + b1)\n",
        "\n",
        "w2v_df = pd.DataFrame(vectors, columns = ['x1', 'x2'])\n",
        "w2v_df['word'] = list(words) # set to list\n",
        "w2v_df = w2v_df[['word', 'x1', 'x2']]\n",
        "w2v_df"
      ],
      "metadata": {
        "colab": {
          "base_uri": "https://localhost:8080/",
          "height": 426
        },
        "id": "_TVPM-vKC5KL",
        "outputId": "7a6abde6-ac3b-4ab0-f3b6-8e497c229cd9"
      },
      "execution_count": 9,
      "outputs": [
        {
          "output_type": "execute_result",
          "data": {
            "text/plain": [
              "        word        x1        x2\n",
              "0     pretty -2.490023  4.696000\n",
              "1        boy  1.310742  0.214769\n",
              "2       girl -0.034430  1.760970\n",
              "3      woman -0.289554  0.240904\n",
              "4       wise -0.660263  5.642026\n",
              "5        man  5.606310  2.432386\n",
              "6     strong  4.386876 -0.664082\n",
              "7      young  0.207774  0.076531\n",
              "8     prince  6.348232  2.438151\n",
              "9      queen -0.366322  0.774701\n",
              "10      king  1.216286  0.341836\n",
              "11  princess  1.581971  4.962401"
            ],
            "text/html": [
              "\n",
              "  <div id=\"df-52f5ab6e-2d64-446f-9213-22fc2676e841\">\n",
              "    <div class=\"colab-df-container\">\n",
              "      <div>\n",
              "<style scoped>\n",
              "    .dataframe tbody tr th:only-of-type {\n",
              "        vertical-align: middle;\n",
              "    }\n",
              "\n",
              "    .dataframe tbody tr th {\n",
              "        vertical-align: top;\n",
              "    }\n",
              "\n",
              "    .dataframe thead th {\n",
              "        text-align: right;\n",
              "    }\n",
              "</style>\n",
              "<table border=\"1\" class=\"dataframe\">\n",
              "  <thead>\n",
              "    <tr style=\"text-align: right;\">\n",
              "      <th></th>\n",
              "      <th>word</th>\n",
              "      <th>x1</th>\n",
              "      <th>x2</th>\n",
              "    </tr>\n",
              "  </thead>\n",
              "  <tbody>\n",
              "    <tr>\n",
              "      <th>0</th>\n",
              "      <td>pretty</td>\n",
              "      <td>-2.490023</td>\n",
              "      <td>4.696000</td>\n",
              "    </tr>\n",
              "    <tr>\n",
              "      <th>1</th>\n",
              "      <td>boy</td>\n",
              "      <td>1.310742</td>\n",
              "      <td>0.214769</td>\n",
              "    </tr>\n",
              "    <tr>\n",
              "      <th>2</th>\n",
              "      <td>girl</td>\n",
              "      <td>-0.034430</td>\n",
              "      <td>1.760970</td>\n",
              "    </tr>\n",
              "    <tr>\n",
              "      <th>3</th>\n",
              "      <td>woman</td>\n",
              "      <td>-0.289554</td>\n",
              "      <td>0.240904</td>\n",
              "    </tr>\n",
              "    <tr>\n",
              "      <th>4</th>\n",
              "      <td>wise</td>\n",
              "      <td>-0.660263</td>\n",
              "      <td>5.642026</td>\n",
              "    </tr>\n",
              "    <tr>\n",
              "      <th>5</th>\n",
              "      <td>man</td>\n",
              "      <td>5.606310</td>\n",
              "      <td>2.432386</td>\n",
              "    </tr>\n",
              "    <tr>\n",
              "      <th>6</th>\n",
              "      <td>strong</td>\n",
              "      <td>4.386876</td>\n",
              "      <td>-0.664082</td>\n",
              "    </tr>\n",
              "    <tr>\n",
              "      <th>7</th>\n",
              "      <td>young</td>\n",
              "      <td>0.207774</td>\n",
              "      <td>0.076531</td>\n",
              "    </tr>\n",
              "    <tr>\n",
              "      <th>8</th>\n",
              "      <td>prince</td>\n",
              "      <td>6.348232</td>\n",
              "      <td>2.438151</td>\n",
              "    </tr>\n",
              "    <tr>\n",
              "      <th>9</th>\n",
              "      <td>queen</td>\n",
              "      <td>-0.366322</td>\n",
              "      <td>0.774701</td>\n",
              "    </tr>\n",
              "    <tr>\n",
              "      <th>10</th>\n",
              "      <td>king</td>\n",
              "      <td>1.216286</td>\n",
              "      <td>0.341836</td>\n",
              "    </tr>\n",
              "    <tr>\n",
              "      <th>11</th>\n",
              "      <td>princess</td>\n",
              "      <td>1.581971</td>\n",
              "      <td>4.962401</td>\n",
              "    </tr>\n",
              "  </tbody>\n",
              "</table>\n",
              "</div>\n",
              "      <button class=\"colab-df-convert\" onclick=\"convertToInteractive('df-52f5ab6e-2d64-446f-9213-22fc2676e841')\"\n",
              "              title=\"Convert this dataframe to an interactive table.\"\n",
              "              style=\"display:none;\">\n",
              "        \n",
              "  <svg xmlns=\"http://www.w3.org/2000/svg\" height=\"24px\"viewBox=\"0 0 24 24\"\n",
              "       width=\"24px\">\n",
              "    <path d=\"M0 0h24v24H0V0z\" fill=\"none\"/>\n",
              "    <path d=\"M18.56 5.44l.94 2.06.94-2.06 2.06-.94-2.06-.94-.94-2.06-.94 2.06-2.06.94zm-11 1L8.5 8.5l.94-2.06 2.06-.94-2.06-.94L8.5 2.5l-.94 2.06-2.06.94zm10 10l.94 2.06.94-2.06 2.06-.94-2.06-.94-.94-2.06-.94 2.06-2.06.94z\"/><path d=\"M17.41 7.96l-1.37-1.37c-.4-.4-.92-.59-1.43-.59-.52 0-1.04.2-1.43.59L10.3 9.45l-7.72 7.72c-.78.78-.78 2.05 0 2.83L4 21.41c.39.39.9.59 1.41.59.51 0 1.02-.2 1.41-.59l7.78-7.78 2.81-2.81c.8-.78.8-2.07 0-2.86zM5.41 20L4 18.59l7.72-7.72 1.47 1.35L5.41 20z\"/>\n",
              "  </svg>\n",
              "      </button>\n",
              "      \n",
              "  <style>\n",
              "    .colab-df-container {\n",
              "      display:flex;\n",
              "      flex-wrap:wrap;\n",
              "      gap: 12px;\n",
              "    }\n",
              "\n",
              "    .colab-df-convert {\n",
              "      background-color: #E8F0FE;\n",
              "      border: none;\n",
              "      border-radius: 50%;\n",
              "      cursor: pointer;\n",
              "      display: none;\n",
              "      fill: #1967D2;\n",
              "      height: 32px;\n",
              "      padding: 0 0 0 0;\n",
              "      width: 32px;\n",
              "    }\n",
              "\n",
              "    .colab-df-convert:hover {\n",
              "      background-color: #E2EBFA;\n",
              "      box-shadow: 0px 1px 2px rgba(60, 64, 67, 0.3), 0px 1px 3px 1px rgba(60, 64, 67, 0.15);\n",
              "      fill: #174EA6;\n",
              "    }\n",
              "\n",
              "    [theme=dark] .colab-df-convert {\n",
              "      background-color: #3B4455;\n",
              "      fill: #D2E3FC;\n",
              "    }\n",
              "\n",
              "    [theme=dark] .colab-df-convert:hover {\n",
              "      background-color: #434B5C;\n",
              "      box-shadow: 0px 1px 3px 1px rgba(0, 0, 0, 0.15);\n",
              "      filter: drop-shadow(0px 1px 2px rgba(0, 0, 0, 0.3));\n",
              "      fill: #FFFFFF;\n",
              "    }\n",
              "  </style>\n",
              "\n",
              "      <script>\n",
              "        const buttonEl =\n",
              "          document.querySelector('#df-52f5ab6e-2d64-446f-9213-22fc2676e841 button.colab-df-convert');\n",
              "        buttonEl.style.display =\n",
              "          google.colab.kernel.accessAllowed ? 'block' : 'none';\n",
              "\n",
              "        async function convertToInteractive(key) {\n",
              "          const element = document.querySelector('#df-52f5ab6e-2d64-446f-9213-22fc2676e841');\n",
              "          const dataTable =\n",
              "            await google.colab.kernel.invokeFunction('convertToInteractive',\n",
              "                                                     [key], {});\n",
              "          if (!dataTable) return;\n",
              "\n",
              "          const docLinkHtml = 'Like what you see? Visit the ' +\n",
              "            '<a target=\"_blank\" href=https://colab.research.google.com/notebooks/data_table.ipynb>data table notebook</a>'\n",
              "            + ' to learn more about interactive tables.';\n",
              "          element.innerHTML = '';\n",
              "          dataTable['output_type'] = 'display_data';\n",
              "          await google.colab.output.renderOutput(dataTable, element);\n",
              "          const docLink = document.createElement('div');\n",
              "          docLink.innerHTML = docLinkHtml;\n",
              "          element.appendChild(docLink);\n",
              "        }\n",
              "      </script>\n",
              "    </div>\n",
              "  </div>\n",
              "  "
            ]
          },
          "metadata": {},
          "execution_count": 9
        }
      ]
    },
    {
      "cell_type": "code",
      "source": [
        "fig, ax = plt.subplots()\n",
        "\n",
        "for word, x1, x2 in zip(w2v_df['word'], w2v_df['x1'], w2v_df['x2']):\n",
        "    ax.annotate(word, (x1,x2 ))\n",
        "    \n",
        "PADDING = 1.0\n",
        "x_axis_min = np.amin(vectors, axis=0)[0] - PADDING\n",
        "y_axis_min = np.amin(vectors, axis=0)[1] - PADDING\n",
        "x_axis_max = np.amax(vectors, axis=0)[0] + PADDING\n",
        "y_axis_max = np.amax(vectors, axis=0)[1] + PADDING\n",
        " \n",
        "plt.xlim(x_axis_min,x_axis_max)\n",
        "plt.ylim(y_axis_min,y_axis_max)\n",
        "plt.rcParams[\"figure.figsize\"] = (10,10)\n",
        "\n",
        "plt.show()"
      ],
      "metadata": {
        "colab": {
          "base_uri": "https://localhost:8080/",
          "height": 265
        },
        "id": "u5HScEraDsKR",
        "outputId": "221086f7-f7f3-49c7-cd23-26ed99b386ca"
      },
      "execution_count": 10,
      "outputs": [
        {
          "output_type": "display_data",
          "data": {
            "text/plain": [
              "<Figure size 432x288 with 1 Axes>"
            ],
            "image/png": "[encoded data removed]"
          },
          "metadata": {
            "needs_background": "light"
          }
        }
      ]
    },
    {
      "cell_type": "markdown",
      "source": [
        "man과 prince가 가까이 있고 queen, woman, girl이 가까이 있는 것을 확인할 수 있다. 근데 성능이 뛰어난 것 같진 않다."
      ],
      "metadata": {
        "id": "vbWxLUsWEDzF"
      }
    }
  ]
}