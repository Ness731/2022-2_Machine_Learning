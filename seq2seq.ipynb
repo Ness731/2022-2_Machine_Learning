{
  "nbformat": 4,
  "nbformat_minor": 0,
  "metadata": {
    "colab": {
      "provenance": [],
      "authorship_tag": "ABX9TyO0QVz5jgQj0/ImGe1Mc4c6",
      "include_colab_link": true
    },
    "kernelspec": {
      "name": "python3",
      "display_name": "Python 3"
    },
    "language_info": {
      "name": "python"
    },
    "accelerator": "GPU",
    "gpuClass": "standard"
  },
  "cells": [
    {
      "cell_type": "markdown",
      "metadata": {
        "id": "view-in-github",
        "colab_type": "text"
      },
      "source": [
        "<a href=\"https://colab.research.google.com/github/Ness731/2022-2_Machine_Learning/blob/main/seq2seq.ipynb\" target=\"_parent\"><img src=\"https://colab.research.google.com/assets/colab-badge.svg\" alt=\"Open In Colab\"/></a>"
      ]
    },
    {
      "cell_type": "markdown",
      "source": [
        "### __Seq2Seq__\n",
        "순환 신경망을 사용한 번역기 모델로, 인코더와 디코더 모듈로 구성된다.<br>\n",
        "- 인코더 : RNN cell을 거쳐 Context Vector를 생성한다.\n",
        "- 디코더 : Context Vector를 입력받아 번역문을 생성한다.<br>"
      ],
      "metadata": {
        "id": "FWCwldrAyEVs"
      }
    },
    {
      "cell_type": "markdown",
      "source": [
        "#### 1. Encoder\n",
        "매 step마다 encoder의 RNN cell에 들어오는 input은 다음과 같다. <br>\n",
        "1. 현재 단어 x_t에 대한 embedding vector\n",
        "2. 이전 setp인 t-1에서의 hidden state h_t-1\n",
        "\n",
        "한 번의 step을 거치면 t시점의 hidden state가 출력된다.<br>\n",
        "\n",
        "![image.png](data:image/png;base64,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)"
      ],
      "metadata": {
        "id": "ha5qavsNy6uu"
      }
    },
    {
      "cell_type": "markdown",
      "source": [
        "첫 input과 마지막 input은 문장의 시작과 끝을 나타내는 토큰 `<sos>`와 `<eos>`이므로,<br> 해당 토큰에 대해선 대게 지정된 값으로 처리한다. (보통 0을 삽입)"
      ],
      "metadata": {
        "id": "rA0KZi6Fzl2o"
      }
    },
    {
      "cell_type": "markdown",
      "source": [
        "#### 2. Decoder\n",
        "문장의 마지막 단어에 대한 step을 T라고 했을 때, 오직 h_T를 이용하여 디코딩 작업을 수행한다.<br>\n",
        "매 step마다 decoder의 RNN cell에 들어오는 input은 다음과 같다. <br>\n",
        "1. 현재 단어에 y_t에 대한 embedding vector\n",
        "2. 이전 setp인 t-1에서의 hidden state s_t-1<br>\n",
        "이때, 디코더의 맨 첫 번째 hidden state s_0은 인코더에서 넘겨준 h_T와 같다.<br>\n",
        "`s_0 == h_T`<br>\n",
        "\n",
        "![image.png](data:image/png;base64,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)"
      ],
      "metadata": {
        "id": "1Vl8wIha0gCi"
      }
    },
    {
      "cell_type": "markdown",
      "source": [
        "디코더의 매 step에서 생성되는 hidden state를 이용하여 다음 단어 y^_t를 예측한다. <br>\n",
        "즉, 디코더에서는 항상 한 번의 스텝마다 한 개의 단어를 차례대로 생성한다.\n",
        "<br>\n",
        "\n",
        "![image.png](data:image/png;base64,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)"
      ],
      "metadata": {
        "id": "b7_VhYps2Tps"
      }
    },
    {
      "cell_type": "markdown",
      "source": [
        "![image.png](data:image/png;base64,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)"
      ],
      "metadata": {
        "id": "thztB-fh3BRY"
      }
    },
    {
      "cell_type": "code",
      "source": [
        "import torchtext\n",
        "torchtext.__version__"
      ],
      "metadata": {
        "colab": {
          "base_uri": "https://localhost:8080/",
          "height": 35
        },
        "id": "IoA9ArEv3ddi",
        "outputId": "e4d48909-0c3b-4021-a58a-61631cc9b932"
      },
      "execution_count": 1,
      "outputs": [
        {
          "output_type": "execute_result",
          "data": {
            "text/plain": [
              "'0.10.1'"
            ],
            "application/vnd.google.colaboratory.intrinsic+json": {
              "type": "string"
            }
          },
          "metadata": {},
          "execution_count": 1
        }
      ]
    },
    {
      "cell_type": "code",
      "source": [
        "pip install torchtext==0.10.1 "
      ],
      "metadata": {
        "colab": {
          "base_uri": "https://localhost:8080/"
        },
        "id": "FehCYH-K3hy1",
        "outputId": "37fd4315-a87f-4b88-db98-d9dae3470d99"
      },
      "execution_count": 2,
      "outputs": [
        {
          "output_type": "stream",
          "name": "stdout",
          "text": [
            "Looking in indexes: https://pypi.org/simple, https://us-python.pkg.dev/colab-wheels/public/simple/\n",
            "Requirement already satisfied: torchtext==0.10.1 in /usr/local/lib/python3.7/dist-packages (0.10.1)\n",
            "Requirement already satisfied: tqdm in /usr/local/lib/python3.7/dist-packages (from torchtext==0.10.1) (4.64.1)\n",
            "Requirement already satisfied: numpy in /usr/local/lib/python3.7/dist-packages (from torchtext==0.10.1) (1.21.6)\n",
            "Requirement already satisfied: torch==1.9.1 in /usr/local/lib/python3.7/dist-packages (from torchtext==0.10.1) (1.9.1)\n",
            "Requirement already satisfied: requests in /usr/local/lib/python3.7/dist-packages (from torchtext==0.10.1) (2.23.0)\n",
            "Requirement already satisfied: typing-extensions in /usr/local/lib/python3.7/dist-packages (from torch==1.9.1->torchtext==0.10.1) (4.1.1)\n",
            "Requirement already satisfied: certifi>=2017.4.17 in /usr/local/lib/python3.7/dist-packages (from requests->torchtext==0.10.1) (2022.9.24)\n",
            "Requirement already satisfied: chardet<4,>=3.0.2 in /usr/local/lib/python3.7/dist-packages (from requests->torchtext==0.10.1) (3.0.4)\n",
            "Requirement already satisfied: idna<3,>=2.5 in /usr/local/lib/python3.7/dist-packages (from requests->torchtext==0.10.1) (2.10)\n",
            "Requirement already satisfied: urllib3!=1.25.0,!=1.25.1,<1.26,>=1.21.1 in /usr/local/lib/python3.7/dist-packages (from requests->torchtext==0.10.1) (1.24.3)\n"
          ]
        }
      ]
    },
    {
      "cell_type": "code",
      "source": [
        "import torch\n",
        "import torch.nn as nn\n",
        "import torch.optim as optim\n",
        "\n",
        "from torchtext.legacy.datasets import Multi30k\n",
        "from torchtext.legacy.data import Field, BucketIterator\n",
        "\n",
        "import spacy\n",
        "import numpy as np\n",
        "\n",
        "import random\n",
        "import math\n",
        "import time"
      ],
      "metadata": {
        "id": "uvZk7Gcm2TNb"
      },
      "execution_count": 3,
      "outputs": []
    },
    {
      "cell_type": "markdown",
      "source": [
        "## Data load"
      ],
      "metadata": {
        "id": "6u4OFgX64h2P"
      }
    },
    {
      "cell_type": "code",
      "execution_count": 5,
      "metadata": {
        "id": "GBqb9QPwyCX1"
      },
      "outputs": [],
      "source": [
        "SEED = 1234\n",
        "\n",
        "random.seed(SEED)\n",
        "np.random.seed(SEED)\n",
        "torch.manual_seed(SEED)\n",
        "torch.cuda.manual_seed(SEED)\n",
        "torch.backends.cudnn.deterministic = True"
      ]
    },
    {
      "cell_type": "code",
      "source": [
        "import spacy.cli\n",
        "spacy.cli.download(\"en_core_web_sm\")\n",
        "spacy.cli.download(\"de_core_news_sm\")"
      ],
      "metadata": {
        "colab": {
          "base_uri": "https://localhost:8080/"
        },
        "id": "P36nRyIN4fwq",
        "outputId": "d59eac34-fc5c-48a3-c800-8e04cce477f4"
      },
      "execution_count": 7,
      "outputs": [
        {
          "output_type": "stream",
          "name": "stdout",
          "text": [
            "\u001b[38;5;2m✔ Download and installation successful\u001b[0m\n",
            "You can now load the package via spacy.load('en_core_web_sm')\n",
            "\u001b[38;5;2m✔ Download and installation successful\u001b[0m\n",
            "You can now load the package via spacy.load('de_core_news_sm')\n"
          ]
        }
      ]
    },
    {
      "cell_type": "code",
      "source": [
        "spacy_de = spacy.load('de_core_news_sm')\n",
        "spacy_en = spacy.load('en_core_web_sm')"
      ],
      "metadata": {
        "id": "YNsJ4hjD4j77"
      },
      "execution_count": 8,
      "outputs": []
    },
    {
      "cell_type": "code",
      "source": [
        "def tokenize_de(text):\n",
        "    \"\"\"\n",
        "    Tokenizes German text from a string into a list of strings (tokens) and reverses it\n",
        "    \"\"\"\n",
        "    return [tok.text for tok in spacy_de.tokenizer(text)][::-1]\n",
        "\n",
        "def tokenize_en(text):\n",
        "    \"\"\"\n",
        "    Tokenizes English text from a string into a list of strings (tokens)\n",
        "    \"\"\"\n",
        "    return [tok.text for tok in spacy_en.tokenizer(text)]"
      ],
      "metadata": {
        "id": "okINrigj498f"
      },
      "execution_count": 9,
      "outputs": []
    },
    {
      "cell_type": "markdown",
      "source": [
        "논문에 의하면 원문을 토큰화한 후 reverse 하면 더 쉽게 모델을 최적화할 수 있다고 한다."
      ],
      "metadata": {
        "id": "8eMe74IR8PhJ"
      }
    },
    {
      "cell_type": "code",
      "source": [
        "SRC = Field(tokenize = tokenize_de, \n",
        "            init_token = '', \n",
        "            eos_token = '', \n",
        "            lower = True)\n",
        "\n",
        "TRG = Field(tokenize = tokenize_en, \n",
        "            init_token = '', \n",
        "            eos_token = '', \n",
        "            lower = True)"
      ],
      "metadata": {
        "id": "YdaejhqT7jL9"
      },
      "execution_count": 10,
      "outputs": []
    },
    {
      "cell_type": "code",
      "source": [
        "train_data, valid_data, test_data = Multi30k.splits(exts = ('.de', '.en'), \n",
        "                                                    fields = (SRC, TRG))"
      ],
      "metadata": {
        "colab": {
          "base_uri": "https://localhost:8080/"
        },
        "id": "289i1sCT7kEL",
        "outputId": "1117262b-4691-4281-ac0d-5dea698045de"
      },
      "execution_count": 11,
      "outputs": [
        {
          "output_type": "stream",
          "name": "stdout",
          "text": [
            "downloading training.tar.gz\n"
          ]
        },
        {
          "output_type": "stream",
          "name": "stderr",
          "text": [
            "training.tar.gz: 100%|██████████| 1.21M/1.21M [00:02<00:00, 423kB/s]\n"
          ]
        },
        {
          "output_type": "stream",
          "name": "stdout",
          "text": [
            "downloading validation.tar.gz\n"
          ]
        },
        {
          "output_type": "stream",
          "name": "stderr",
          "text": [
            "validation.tar.gz: 100%|██████████| 46.3k/46.3k [00:00<00:00, 111kB/s] \n"
          ]
        },
        {
          "output_type": "stream",
          "name": "stdout",
          "text": [
            "downloading mmt_task1_test2016.tar.gz\n"
          ]
        },
        {
          "output_type": "stream",
          "name": "stderr",
          "text": [
            "mmt_task1_test2016.tar.gz: 100%|██████████| 66.2k/66.2k [00:00<00:00, 106kB/s]\n"
          ]
        }
      ]
    },
    {
      "cell_type": "code",
      "source": [
        "print(f\"Number of training examples: {len(train_data.examples)}\")\n",
        "print(f\"Number of validation examples: {len(valid_data.examples)}\")\n",
        "print(f\"Number of testing examples: {len(test_data.examples)}\")"
      ],
      "metadata": {
        "colab": {
          "base_uri": "https://localhost:8080/"
        },
        "id": "lwSZT8cx7mHZ",
        "outputId": "e84e85f3-25ed-4871-e60d-a085f2d059e3"
      },
      "execution_count": 12,
      "outputs": [
        {
          "output_type": "stream",
          "name": "stdout",
          "text": [
            "Number of training examples: 29000\n",
            "Number of validation examples: 1014\n",
            "Number of testing examples: 1000\n"
          ]
        }
      ]
    },
    {
      "cell_type": "code",
      "source": [
        "print(vars(train_data.examples[0]))"
      ],
      "metadata": {
        "colab": {
          "base_uri": "https://localhost:8080/"
        },
        "id": "-Qkj2Sps7rFf",
        "outputId": "e9dbb985-c02b-42ac-8dfc-c106b374921a"
      },
      "execution_count": 13,
      "outputs": [
        {
          "output_type": "stream",
          "name": "stdout",
          "text": [
            "{'src': ['.', 'büsche', 'vieler', 'nähe', 'der', 'in', 'freien', 'im', 'sind', 'männer', 'weiße', 'junge', 'zwei'], 'trg': ['two', 'young', ',', 'white', 'males', 'are', 'outside', 'near', 'many', 'bushes', '.']}\n"
          ]
        }
      ]
    },
    {
      "cell_type": "markdown",
      "source": [
        "위의 토큰화 함수를 거쳐 각 문장들이 정상적으로 토큰화되었음을 확인할 수 있다. 특히 독일어 문장은 reverse까지 잘 되어있다."
      ],
      "metadata": {
        "id": "bUWdCAtM8fhl"
      }
    },
    {
      "cell_type": "code",
      "source": [
        "SRC.build_vocab(train_data, min_freq = 2)\n",
        "TRG.build_vocab(train_data, min_freq = 2)"
      ],
      "metadata": {
        "id": "-r_VRmlR7tfH"
      },
      "execution_count": 14,
      "outputs": []
    },
    {
      "cell_type": "code",
      "source": [
        "print(f\"Unique tokens in source (de) vocabulary: {len(SRC.vocab)}\")\n",
        "print(f\"Unique tokens in target (en) vocabulary: {len(TRG.vocab)}\")"
      ],
      "metadata": {
        "colab": {
          "base_uri": "https://localhost:8080/"
        },
        "id": "J7oa_eqF7xVE",
        "outputId": "03d11b0e-e44d-4350-8602-1590c5c9d8ae"
      },
      "execution_count": 15,
      "outputs": [
        {
          "output_type": "stream",
          "name": "stdout",
          "text": [
            "Unique tokens in source (de) vocabulary: 7852\n",
            "Unique tokens in target (en) vocabulary: 5892\n"
          ]
        }
      ]
    },
    {
      "cell_type": "markdown",
      "source": [
        "### 모델 설계"
      ],
      "metadata": {
        "id": "weZmaU4t84Ph"
      }
    },
    {
      "cell_type": "markdown",
      "source": [
        "모델에 사용되는 하이퍼파라미터는 다음과 같다.<br>\n",
        "- __input_dim__ : 입력 데이터는 원핫 인코딩된 각 단어이기 때문에, 입력 차원은 __원핫 벡터 크기__이다.\n",
        "- __emb_dim__ : 원핫 벡터를 입력받은 후 임베딩 벡터로 변환할 때 사용할 __임베딩 벡터 크기__\n",
        "- __hid_dim__ : hidden state의 크기\n",
        "- __n_layers__ : RNN cell의 개수"
      ],
      "metadata": {
        "id": "tpIgeYV39oZY"
      }
    },
    {
      "cell_type": "code",
      "source": [
        "device = torch.device('cuda' if torch.cuda.is_available() else 'cpu')\n",
        "\n",
        "BATCH_SIZE = 128\n",
        "\n",
        "train_iterator, valid_iterator, test_iterator = BucketIterator.splits(\n",
        "    (train_data, valid_data, test_data), \n",
        "    batch_size = BATCH_SIZE, \n",
        "    device = device)"
      ],
      "metadata": {
        "id": "RalJj4N47zfJ"
      },
      "execution_count": 16,
      "outputs": []
    },
    {
      "cell_type": "markdown",
      "source": [
        "### Encoder"
      ],
      "metadata": {
        "id": "ykqK-HMx_T5x"
      }
    },
    {
      "cell_type": "markdown",
      "source": [
        "![image.png](data:image/png;base64,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)"
      ],
      "metadata": {
        "id": "8bvlSPQb_WM5"
      }
    },
    {
      "cell_type": "markdown",
      "source": [
        "LSTM은 Vanila RNN과 다르게 state가 2개이다. <은닉 상태 h와 셀 상태 c>. 따라서 리턴 값은 hidden, cell이다."
      ],
      "metadata": {
        "id": "prfM11giHl_Y"
      }
    },
    {
      "cell_type": "code",
      "source": [
        "class Encoder(nn.Module):\n",
        "  def __init__(self, input_dim, emb_dim, hid_dim, n_layers, dropout):\n",
        "    super().__init__()\n",
        "\n",
        "    self.hid_dim = hid_dim\n",
        "    self.n_layers = n_layers\n",
        "\n",
        "     # 인코딩 벡터 -> 임베딩 벡터로 임베딩하는 함수. 따라서 두 벡터의 차원을 input으로 받는다.\n",
        "    self.embedding = nn.Embedding(input_dim, emb_dim)\n",
        "\n",
        "    self.rnn = nn.LSTM(emb_dim, hid_dim, n_layers, dropout = dropout)\n",
        "\n",
        "    self.dropout = nn.Dropout(dropout)\n",
        "\n",
        "  def forward(self, src):\n",
        "    embedded = self.dropout(self.embedding(src))\n",
        "    # 임베딩 벡터를 rnn cell에 입력한 후 최종적으로 생성된 hidden state를 output으로 설정\n",
        "    outputs, (hidden, cell) = self.rnn(embedded) \n",
        "    return hidden, cell"
      ],
      "metadata": {
        "id": "dgx2O9cJ83ud"
      },
      "execution_count": 17,
      "outputs": []
    },
    {
      "cell_type": "markdown",
      "source": [
        "### Decoder\n",
        "![image.png](data:image/png;base64,iVBORw0KGgoAAAANSUhEUgAAAV8AAAH2CAYAAADXpo+nAAAgAElEQVR4nO3de3iU9b3v/c9AOAkRdetgFdCGXKFEGxBLFzWGJqQQKMtaVHz6pIsGutQKCpVSy2GxOFShCI8bRbBNPTWKghytRlETEZWDoqIicgjErbFEIxIQE3KYkO/+w4fZzk4CIfckv5nwfl1Xritzzz33fO8P8OHHPZPBZ2YmAECLauN6AAA4E1G+AOAA5QsADlC+QCOVlZXp5Zdfdj0GWgnKF5Kkf/zjH+rRo4cmTZrkepSIVVRUpIyMDNdjoJWgfCFJGjNmjFavXq3jx4+7HiVinX/++Zo1a5brMcKurKxMc+bM0YoVK5zNsGHDBv3hD3/QoUOHnM3Q0ijfKNWYdwi2hncRnuwcwn1+pzqe3+/X7Nmzw3Ksxu7TnGpra7Vs2TL17dtXbdu21S9+8Yt692vsnF7OOSUlRb169VK/fv20dOlSBQKBRj1nNKN8I8DRo0c1YcIEdevWTd26ddPYsWP1/PPPKy0tTZMnTw7uV1lZqVmzZql3796Kj4/XT37yE73yyit1jvf2228rPT1d8fHx6t27tyZNmqSjR4+G7HPkyBGNHz9el112mS677DKNHz9e33zzTbOfa302btyotLQ0/e53v1OvXr3Uu3dvrV+/Xunp6erZs6ceeeSRkP0bc37jxo1TWlqalixZotLSUo0fP169e/fWLbfcEjzPqVOnKj09Xc8//7yuvPJKXXjhhUpLS9PevXtDjlVcXKz09HSlpaVp6NCh9Z7DihUrlJaWplWrVmnYsGHq2bOn+vbtq3/+858h+9XW1mrJkiXq1auXunbtqmHDhunNN99UWlqahg0bpurqaq9xNsqWLVs0cOBA5efn67XXXtOMGTN01llnBe8/ePCgbrnlFnXr1k0XXnihBg0apM2bN9c5TnFxsX7zm9+oV69eio+P13XXXaf9+/fX2W/p0qW6+uqr1bNnTw0bNkx/+tOflJubG7y/Xbt2uu222/T++++roKBA/fr104svvtg8Jx8pDE7V1tba8OHDbcqUKVZcXGyHDx+2Bx54wCTZ7Nmzrbq6OrjvyJEjbdasWVZVVWVmZvv27bMBAwbYCy+8ENxn27ZtlpiYaB988IGZmdXU1NiSJUssOTnZAoGAmZmVl5dbSkqKLV++PPi45cuXW2xsrE2YMKElTjvE8ePH7b777rO4uDj7/PPP7ZVXXjFJlpuba5WVlZaYmGgVFRWNPj8zs8rKSnv11VdtwIABlpSUZMuXL7fq6mpbuXKlFRUVmZlZVVWVJSYmWlJSkhUXF1ttba3l5uZa//7968xYXl5uZWVllpCQUO851NTU2KRJk0ySbd261czMCgsLze/3W2lpaXC/e+65x6655hr74IMPrLq62tatW2d+v99SUlLs2LFj4Qn0JIqKiiwzM9MGDhxob731Vr37nDjPxYsX28GDB626utry8vIsLi4ueG5mZocPH7aEhARbu3ZtcFt+fr7FxcXZZ599Fty2fv16S0lJseLiYjMzO3jwoI0cOdIWLVrU4JwfffSRZWRk2IgRI2zPnj1eTzsiUb6Ovf/++9a9e3erqakJ2Z6RkWF/+ctfgre3bt1qI0eOrPP4oqIiS0pKCnnc9u3b6+w3fvx4W7NmjZmZPfvsszZz5sw6+8yYMcNJ+ZqZZWdn22OPPWZmZocOHbLU1NTgfRkZGXbw4MHg96c6vxO2bdtmcXFxtm/fvgaft3///nbo0KGQbQkJCSF/6X1XYmJig8eaMmWKPfvssyHbJk6caBs3bjSzb/+SiY2NtcLCwpB95s+fb0OGDGnwuOFy4MAB8/v9lpycfNKif+yxxywzM7PO9tzcXBs+fHjw9vz58+2BBx6os9/KlStt4sSJwdsffvihxcXFWW5ubrCAS0pK7NNPPz3pvIFAwEaOHGmxsbG2a9euU55ftOGyg2NFRUX6+c9/rrZt24ZsT09PD7n90Ucf1dkmST169FBlZWXwGtm+fft0xRVX1NkvNTVVu3fvliRt3bpVycnJdfa56qqrmnwe4dCmTZt6v/+uxpzfd40YMULx8fEnfd6zzz475HbXrl2bfD22a9euIbc7d+4cPNaRI0d0wQUXKC4uLmSfn/70p016rtN10UUXqaCgQOnp6erXr5+efPLJel9g3bt3r5577jldeeWVIV8zZ85UTU1NcL+dO3dq0KBBdR6fnJysHTt2BG9ffvnlevrpp/XGG2/o5ptvVrdu3TRlypSQyxzfZWbB57/kkku0f/9+9enTJwwJRBbK17E+ffpo+fLlqqioCNm+bNmykNs9evTQnj176jy+vLxcNTU1ateunaRvXxQqLi6us9/evXvVo0cPSVJiYmK91+U+/vjjJp9HS2nM+UWq8847T2VlZXrnnXdCtq9evbrFZujatavmzJmjV199VZs2bdKPf/zjOtdW+/Tpo5/97Gd6991363x9933Ol156aZ3r45K0f/9+XXrppcHb77zzjvr166f58+crNzdXBw4c0A9/+EPdeeeddR67efNmpaSkaMWKFVq7dq0WLVokv98fxgQiB+XrWHx8vMaOHatRo0Zpw4YN2rZtm8aOHasvvvgiZL9BgwZpy5YtWr9+fXBbZWWlxo0bp9tvvz247Y477tBNN90U8gLUm2++qSeeeELXXHONJGno0KFaunRpSJnv3r1b06ZNa67TDJvGnF8ke/DBB5WVlaVly5Zp7969mjNnjtatW9fib/G76KKL9Ne//lXLli3T3/72N6WnpweL9LrrrtMHH3ygp59+OmSlW1RUpCVLlgRvZ2VlacaMGSF/kRcXF2vChAm69dZbg9v+/Oc/h7yNLSYmRhdffLHKy8tDjv3LX/5SM2fO1P33368nn3xSvXr1apZzjxiOL3vAvn3R7aGHHrKMjAzLyMiw++67z9auXRtyzdfM7JNPPrGUlBQbPHiwjRkzxuLi4uyuu+6y48ePh+y3dOlSi4uLs9GjR9uIESOsf//+tnPnzpB9du7caYmJiTZq1CgbNWqUJSUlWU5OjsXGxtZ7bbk55eXlmd/vN7/fb6+//rqVlpaaJJs6daqZmQ0fPtySkpKssrKyUedXWFhoAwYMsISEBIuNjbXExERLTEwMuV5pZpaammqSLCkpyQ4cOGBmZrfffrtJsuTkZKutrTUzs6ysrOAxJAW/T0lJCR5r6tSpFhsba927dw++APr4448HtxUUFAT33bBhg40aNcqSk5NtypQpVlBQ0CLXfE9m8+bN9u677wZvFxYWWmpqqsXGxtro0aNt8ODBFhcXZzk5OSGP27hxoyUkJNj1119vN954o8XFxdkzzzwTsk9mZqZlZmbatddea2PGjLH+/ftbRkZGyDXf3bt3W15eXvOeZITxmbWCN4O2Qo8//rgOHz6s3//+93XuO3DggEpKSpSQkKAuXbrU+/iKigoVFBSoa9euuuSSS+Tz+erdr7CwUG3atNH3v//9sM7f3Bp7ftGgsLBQkydP1jPPPON6lDq++OIL/etf/9Kll16q888/v959ampqVFhYqJqaGiUkJAQvgdW3365duxQfH9/g9d4zCeUbgUpKSjRo0CCtWLGi3heX0HpUV1dr7Nixuuqqq3Tbbbe5HgctiGu+EeL+++9X3759ddlll+lHP/qR7r77boq3ldq0aZP69u2rvn37qkePHrrkkktCrpHizMDKN0KYmWprayWpztvO0PqceIGNX+szF+ULAA5w2QEAHKB8AcAByhcAHKB8AcAByhcAHKB8AcAByhcAHKB8AcAByhcAHKB8AcAByhcAHKB8AcAByrcVCAQCyszMDP4nmjg95OcN+TUN5dsKLFy4UGvWrNGCBQtcjxKVyM8b8msaPlKyFejYsaOqqqrUvn17VVVVuR4n6pCfN+TXNKx8o9y8efOC3/t8Ps2dO9fhNNGH/Lwhv6Zj5RvlTqw6TmD1cXrIzxvyazpWvlHsu6uOE1h9NB75eUN+3rDyjWIdOnRQTEyMunTpoi+//FJ+v19lZWUKBAKqrq52PV7EIz9vyM8bVr5RKj8/X506dVJ2drZKSkokfftfzmdnZ6tz587Ky8tzPGFkIz9vyM87Vr6thM/nE7+UTUd+3pDf6WPlCwAOUL4A4ADlCwAOUL4A4ADlCwAOUL4A4ADlCwAOUL4A4ADlCwAOUL4A4ADlCwAOUL4A4ADlCwAOUL4A4ADlCwAOUL4A4ADlCwAOUL4A4ADlCwAOUL4A4ADlCwAOUL4A4ADlCwAOUL4A4ADlCwAOUL4A4ADlCwAOUL4A4ADlCwAOUL4A4IDPzMz1EGeiv/5xuesRTmnc//f/uh6hQeTnDfm5F+N6gDPZiN+muR6hQc8/+qrrEU6J/LwhP7e47AAADlC+AOAA5QsADlC+AOAA5QsADlC+AOAA5QsADlC+AOAA5QsADlC+AOAA5QsADlC+AOAA5QsADlC+AOAA5QsADlC+AOAA5QsADlC+AOAA5QsADlC+AOAA5QsADlC+AOAA5QsADlC+AOAA5QsADlC+AOAA5QsADlC+AOAA5QsADlC+AOAA5QsADlC+AOAA5QsADlC+AOAA5QsADlC+AOAA5QsADlC+AOBAjOsBzmTPP/qq6xGiGvl5Q35u+czMXA8BbwKBgLKyspSTk6N27dq5HifqkJ835Nc0XHZoBRYuXKg1a9ZowYIFrkeJSuTnDfk1DSvfVqBjx46qqqpS+/btVVVV5XqcqEN+3pBf07DyjXLz5s0Lfu/z+TR37lyH00Qf8vOG/JqOlW+UO7HqOIHVx+khP2/Ir+lY+Uax7646TmD10Xjk5w35ecPKN4p16NBBMTEx6tKli7788kv5/X6VlZUpEAiourra9XgRj/y8IT9vWPlGqfz8fHXq1EnZ2dkqKSmRJJWUlCg7O1udO3dWXl6e4wkjG/l5Q37esfJtJXw+n/ilbDry84b8Th8rXwBwgPIFAAcoXwBwgPIFAAcoXwBwgPIFAAcoXwBwgPIFAAcoXwBwgPIFAAcoX0BSamqq6xFwhuGzHVoJfrbeG/LzhvxOHytfAHCA8gUAByhfAHCA8gUAByhfAHCA8gUAByhfAHCA8gUAByhfAHCA8gUAByhfAHCA8gUAByhfAHCA8gUAByhfAHCA8gUAByhfAHCA8gUAB9rOnj17tush4J3P5+P/IfOA/Lwhv9PH/+EGAA5w2QEAHKB8AcAByhcAHKB8AcAByhcAHKB8AcAByhcAHOCHLKLAe++9p02bNsnM5Pf7w378Tz/9VPn5+Tpy5Ii+973vqU2b1vV3Mvl5Q37NxBDR7rrrLouNjbXY2FiTZPfcc09Yj5+Xl2exsbHm9/tNkl1zzTUWCATC+hwukZ835Nd8KF8HPv/8cysvLz/lfocOHbJbb73VAoGAVVRU2I033miSrLq6OmyzjB492r7++ms7fvy4LVq0yCTZtm3bgvfv3r3bamtrw/Z84UB+3pBfZKB8W9imTZssJSXFvvrqq1Puu2PHDvviiy+Ct5999lmT1Kg/OI1x9OhRe+utt4K3S0tLTZJt3LgxuG3BggWWmZlplZWVYXlOr8jPG/KLHJRvC3r88cctISHBDhw40KTHL1261IYMGRLmqf6PDz74wCTZsWPHQrbPnTvXhgwZYhUVFc323I1Bft6QX2ShfFvI7t27TZJt3bq1SY+vrq621NRU27lzZ5gn+z8mT55sOTk59d6XmppqU6dObbbnPhXy84b8Ig/l2wICgYANGDDAMjMzm3yM6dOn27Jly8I4Vaj169fbLbfc0uD9b731lkmyd999t9lmaAj5eUN+kYnybQEvvfSSSbKVK1fWe39lZaUtXbrUrr32Wrv99tttypQp9vrrrwfvX7ZsmS1atCh4u6n//Nq4caNNnTrVrr32WnvooYeC2z/88EP7z//8z+CrzA0d3+/3280339yk5/aC/Lwhv8hE+baAcePGmSQrKiqq9/4FCxaYJNuzZ0/wD8qbb75pZt++yHH99dfbjh07bMeOHZaXl2d33nnnaT1/IBCwyZMnW2xsrD3xxBP21FNPmSTbvn277du3zwYOHGjbtm2zHTt22NatW2306NFWU1NT5zijRo0K6wsujUV+3pBfZKJ8W0BycnK9LyScMGbMGJNk+/btMzOzgQMHWmlpqb355psmqc7Xa6+9dlrPP23atJDHTZkyxSTZG2+8Yd27d69z/Lvuuqve40yaNMkk2Y4dO07r+b0iP2/ILzJRvi3gxG+whjz22GMmyQYMGGCVlZW2Z8+esD33iRdaRo0aFdxWWlrapOf47//+b5NkL7zwQtjmawzy84b8ItMZ8nN8kW306NEaPny43n77bf3xj39U7969w3bsFStWSJL+4z/+I7jt3HPPbdJztG3bNmxzhRP5eUN+blC+LaBPnz6SpGPHjtW5r6amRm3bttXKlSuVmJioJUuWaOfOnWF77m3btkmSLr/8cs/H+uabbyRJSUlJno91OsjPG6/5HT58WGvXrtWHH3542s/dmPyqq6v14osv6o033lBNTU2D+7nKr7lQvi3gBz/4gSSppKQkZHtNTY2GDBkiSerSpYumT58uSdq8eXOdY3z++efav39/vcf/7LPPVFZWVu99tbW1kqSqqqqQ7W+//XbI7WPHjtXZ9n87dOiQYmNjdfHFF590v3Dzmt97772nVatWNVjKXvP79NNPtXr1am3ZsuWk5RGN+T3xxBO67rrr9PDDDyspKUnLli2rc3wv+e3cuVNXX321Hn30UY0YMUK33nprg+fhKr9m4/q6x5lg8+bNJsmWL18esn3//v0hL3SsWrXKJIW8kb20tNSmT59ukuyRRx6pc+wVK1aYJPP7/SE/CnrC4sWLgx9Y8vbbb1t+fr796le/Cr7V5/jx4/b3v//d/H6/jR49+qTnERcXZ9dcc81pn79XXvI71QfDeM3vdD4YJtryKy0ttTlz5gT3z8rKsmuvvTbkGF7zmzJlSvCFwEcfffSk16Zd5ddcKN8WUFtbawkJCXXe5P7CCy9YbGysde/ePfiK84QJE0L2OXbsWPBn3usr302bNgVfJX7mmWfq3H/w4EHr379/cJ/k5GTLzc0Nme3rr7+2IUOGnLR8T/xBXb9+/emevmdNza8xHwzjNb9TfTDMCdGY34nHnpCZmRny/lyz8Pz+O+Ghhx5q8AdBXObXXCjfFnJi9bF9+/bgtkOHDtnXX39t1dXVtm/fPistLW3w8X6/v97yNTP76quvrH///lZcXNzg4/ft23fSD1MZPXr0Scv3xhtvtDFjxjR4f3NrSn6N/WCYpubXmA+GOSEa8zuhoqLC7r33XouLi6s3I6+//2pra4N/EWzevLnefVzn1xwo3xY0f/58S0pKOmnJNuRk5Xvvvffarbfe6mm2k5VvTk5Ok+cOJy/5mTX8wTDhyM+s4Q+Gifb81q1bZ+PHjzdJNnjw4Dr3e83v3XfftenTpwcvDZWVlYXcHyn5hRvl28IeeughS0lJsW+++ea0HtdQ+ZaUlNi9997r+TNPGyrfnJwc+9WvflXnD4QrTc2voQ+GCVd+ZvV/MExryc/s2+vbkuzzzz8PbgtnfgcPHrTY2Fhbs2ZNcFuk5RdOlK8D27dvtyNHjpzWY0628g2Hhsp369atEfdh1k3Jz9UHw7SW/My+/QwISc26Ak1NTQ35IYpIzC9ceKuZA1dccYW6du3qeoxGGThwoHw+n+sxQpxufk8++aQuuOAC/frXv5YkVVZWhnWenTt3avXq1Vq6dGmd40d7fp9++mnw+y1btmjEiBE699xzwzbLgQMHdPz4cUnS0aNHtWvXLg0ePDh4fyTmFy4xrgfAqZmZKioqgu+ZbA6VlZVq165dsx3fleeee07r1q3TrFmz9OGHH6qkpEQvv/yyFixYEJbj79+/XzfffLMWL16s3bt3q7y8XA8++KAee+yxqP+JrKKiIl166aUaPHiwBgwYoK+//lpPPPFE2I5vZho0aJAk6de//rX27t2rV199VR06dAjbc0Q010tvnFxpaalNnDgx+LP3L730Utif49577zVJFhsba9nZ2WE/vivh+mCYhpSWlp7WB8NEo/Lyctu/f39Y/9+27woEArZ///5WeU33VHxmZo56HwDOWFzzBQAHKF8AcIDyBQAHKF8AcIDyBQAHKF8AcIDyBQAHKF8AcIDybQUCgYAyMzMVCARcjxKVyM8b8msayrcVWLhwodasWRO2zys405CfN+TXNPx4cSvQsWNHVVVVqX379nX+o0KcGvl5Q35Nw8o3ys2bNy/4vc/n09y5cx1OE33IzxvyazpWvlHuxKrjBFYfp4f8vCG/pmPlG8W+u+o4gdVH45GfN+TnDSvfKNahQwfFxMSoS5cu+vLLL+X3+1VWVqZAIKDq6mrX40U88vOG/Lxh5Rul8vPz1alTJ2VnZ6ukpESSVFJSouzsbHXu3Fl5eXmOJ4xs5OcN+XnHyreV8Pl84pey6cjPG/I7fax8AcAByhcAHKB8AcAByhcAHKB8AcAByhcAHKB8AcAByhcAHKB8AcAByhcAHKB8AcAByhcAHKB8AcAByhcAHKB8AcAByhcAHKB8AcAByhcAHKB8AcAByhcAHKB8AcAByhcAHKB8AcAByhcAHKB8AcAByhcAHKB8AcAByhcAHKB8AcAByhcAHPCZmTXlgS+NGhnuWcIuY9U61yM0aMKija5HOKUHJqW6HqFB5OcN+bkX4+XBqdNnhGuOsNs4727XI5zSxMwU1yM0aPFTb7ge4ZTIzxvyc4vLDgDgAOULAA5QvgDgAOULAA5QvgDgAOULAA5QvgDgAOULAA5QvgDggKefcGsOnx/8Sk+/+KJqa2v12+tG6pzYWNcjAUDYRdTK91hFpe6Yf486d+qktfmvKGv6f7keCQCaRUStfN/Z9ZEe+K9p8p93nq7o8wMNv3W865EAoFlEVPkOuvLK4PeBmhqlDviRw2kAoPlE1GWH73rq+Rc0f9IdrscAgGYRkeX7xLPP6d9/Oki9evRwPUqT5eXluR4hqpGfN+QX+ZyUb3lFhd7euTPka0dBgSTp+ddf11mdOikjOVmHjx7VhrfecjGiZzfccIM6duyo+fPnux4lKpGfN+QX+ZyUb+5rryvlN2NCvh5es1Zb3n9f19/xB/16ylR17P8jfS91sHp+73suRvRs8eLFatu2rWbPnq1OnTrxh+A0kZ835Bf5nJTvpu3blTNvrrateEqLp01V+sB/0/+884+6ql8/VW5/J+QrvmdPFyN6lpWVpbPOOktVVVWqrKwM+UMQCARcjxfxyM8b8ot8Tt7tcNeE23VObKwKPvlE6zdt0qp771VMTPhH8fl8YT9mU1VVVUmSZs6cqV27dqnrFb91PNGpkZ835IeTcbLyPSc2Vl989ZUmL7xXD82erbM6dWyW5zEzp1/nn39+cJb27durQ4cOmjNnjh5++OFmOd9wIz9vyA8n42TlW3bsmMbddbcemD5V5597josRml1OTo6OHTum9u3by+fzadasWZo2bZrrsaIG+XlDfpGvxVe+gUCNbpg0WeUVFXr6xZd0rKJS0+9brKeef6GlR2lWEydOVE1NjWbPnq3Kykp+458m8vOG/CJfi69877hngd7dtUvdu3XTrKUPatP29/TFV1/pZz/5t5YepVmtWrVKQ4cOdT1G1CI/b8gv8rV4+c4af6uW/Nc0+Xw+1dbW6uN//Uv/45xzdO7ZZ7f0KM2K3/jekJ835Bf5Wrx8/eedF/y+TZs2UftWMgDwIiJ/vBgAWjvKFwAcoHwBwAHKFwAcoHwBwAHKFwAcoHwBwAHKFwAcoHwBwAHKFwAcoHwBwAHKFwAcoHwBwAFPn2q2cd7d4ZrjjLT4qTdcjxDVyM8b8nPLZ2bmegh4EwgElJWVpZycHLVr1871OFGH/Lwhv6bhskMrsHDhQq1Zs0YLFixwPUpUIj9vyK9pWPm2Ah07dlRVVZXat28f/C/C0Xjk5w35NQ0r3yg3b9684Pc+n09z5851OE30IT9vyK/pWPlGuROrjhNYfZwe8vOG/JqOlW8U++6q4wRWH41Hft6QnzesfKNYhw4dFBMToy5duujLL7+U3+9XWVmZAoGAqqurXY8X8cjPG/LzhpVvlMrPz1enTp2UnZ2tkpISSVJJSYmys7PVuXNn5eXlOZ4wspGfN+TnHSvfVsLn84lfyqYjP2/I7/Sx8gUAByhfAHCA8gUAByhfAHCA8gUAByhfAHCA8gUAByhfAHCA8gUAByhfAHCA8gUAByhfAHCA8gUAByhfAHCA8gUAByhfAHCA8gUAByhfAHCA8gUAByhfAHCA8gUAByhfAHCA8gUAByhfAHCA8gUAByhfAHCA8gUAByhfAHCA8gUAByhfAHDAZ2bWlAe+NGpkuGcJu4xV61yP0KAJiza6HuGUHpiU6nqEBpGfN+TnXoyXB6dOnxGuOcJu47y7XY9wShMzU1yP0KDFT73heoRTIj9vyM8tLjsAgAOULwA4QPkCgAOULwA4QPkCgAOULwA4QPkCgAOULwA4QPkCgAMRWb4Fn3yiZ1+N/B9/BICmirjyfX/PHo2/a67ytm51PQoANJuIK99+P/iBbhg6xPUYANCsIq58AeBMQPkCgAOUbzPJy8tzPUJUIz9vyC/yOSnf8ooKvb1zZ8jXjoICF6M0mxtuuEEdO3bU/PnzXY8SlcjPG/KLfE7KN/e115XymzEhXw+vWStJ2vO//pdWvvSSNm1/T9s+3OlivLBYvHix2rZtq9mzZ6tTp078IThN5OcN+UU+J+W7aft25cybq20rntLiaVOVPvDf9D/v/KMk6Qff/742PPqI3lu9Uj/+4eUuxguLrKwsnXXWWaqqqlJlZWXIH4JAIOB6vIhHft6QX+Tz9N8INdVdE27XObGxKvjkE63ftEmr7r1XMTHhH8Xn84X9mE1VVVUlSZo5c6Z27dqlrlf81vFEp0Z+3pAfTsbJyvec2Fh98UfZVUUAABAKSURBVNVXmrzwXj00e7bO6tSxWZ7HzJx+nX/++cFZ2rdvrw4dOmjOnDl6+OGHm+V8w438vCE/nIyTlW/ZsWMad9fdemD6VJ1/7jkuRmh2OTk5OnbsmNq3by+fz6dZs2Zp2rRprseKGuTnDflFvhZf+QYCNbph0mSVV1To6Rdf0rGKSk2/b7Geev6Flh6lWU2cOFE1NTWaPXu2Kisr+Y1/msjPG/KLfC2+8r3jngV6d9cude/WTbOWPqhN29/TF199pZ/95N9aepRmtWrVKg0dOtT1GFGL/Lwhv8jX4uU7a/ytWvJf0+Tz+VRbW6uP//Uv/Y9zztG5Z5/d0qM0K37je0N+3pBf5Gvx8vWfd17w+zZt2ii+Z8+WHgEAnOPHiwHAAcoXABygfAHAAcoXABygfAHAAcoXABygfAHAAcoXABygfAHAAcoXABygfAHAAcoXABygfAHAAU+farZx3t3hmuOMtPipN1yPENXIzxvyc8tnZuZ6CHgTCASUlZWlnJwctWvXzvU4UYf8vCG/puGyQyuwcOFCrVmzRgsWLHA9SlQiP2/Ir2lY+bYCHTt2VFVVldq3bx/8L8LReOTnDfk1DSvfKDdv3rzg9z6fT3PnznU4TfQhP2/Ir+lY+Ua5E6uOE1h9nB7y84b8mo6VbxT77qrjBFYfjUd+3pCfN6x8o1iHDh0UExOjLl266Msvv5Tf71dZWZkCgYCqq6tdjxfxyM8b8vOGlW+Uys/PV6dOnZSdna2SkhJJUklJibKzs9W5c2fl5eU5njCykZ835OcdK99WwufziV/KpiM/b8jv9LHyBQAHKF8AcIDyBQAHKF8AcIDyBQAHKF8AcIDyBQAHKF8AcIDyBQAHKF8AcIDyBQAHKF8AcIDyBQAHKF8AcIDyBQAHKF8AcIDyBQAHKF8AcIDyBQAHKF8AcIDyBQAHKF8AcIDyBQAHKF8AcIDyBQAHKF8AcIDyBQAHKF8AcIDyBQAHKF8AcMBnZuZ6iDPR7vX/j+sRTqnP8Kddj9Ag8vOG/NyLcT3AmazP1X9yPUKDdm9a4HqEUyI/b8jPLS47AIADlC8AOED5AoADlC8AOED5AoADlC8AOED5AoADlC8AOED5AoADlC8AOED5AoADlC8AOED5AoADlC8AOED5AoADlC8AOED5AoADlC8AOED5AoADlC8AOED5AoADlC8AOED5AoADlC8AOED5AoADlC8AOED5AoADlC8AOED5AoADlC8AOED5AoADlC8AOED5AoADlC8AOED5AoADlC8AOED5AoADlC8AOBDjeoAz2e5NC1yPENXIzxvyc8tnZuZ6CHgTCASUlZWlnJwctWvXzvU4UYf8vCG/puGyQyuwcOFCrVmzRgsWsJJpCvLzhvyahpVvK9CxY0dVVVWpffv2qqqqcj1O1CE/b8ivaVj5Rrl58+YFv/f5fJo7d67DaaIP+XlDfk3HyjfKnVh1nMDq4/SQnzfk13SsfKPYd1cdJ7D6aDzy84b8vGHlG8U6dOigmJgYdenSRV9++aX8fr/KysoUCARUXV3teryIR37ekJ83rHyjVH5+vjp16qTs7GyVlJRIkkpKSpSdna3OnTsrLy/P8YSRjfy8IT/vWPm2Ej6fT/xSNh35eUN+p4+VLwA4QPkCgAOULwA4QPkCgAOULwA4QPkCgAOULwA4QPkCgAOULwA4QPkCgAOULwA4QPkCgAOULwA4QPkCgAOULwA4QPkCgAOULwA4QPkCgAOULwA4QPkCgAOULwA4QPkCgAOULwA4QPkCgAOULwA4QPkCgAOULwA4QPkCgAOULwA4QPkCgAOULwA4QPkCgAOULwA4QPkCgAOULwA4QPkCgAOULwA4QPkCgAOULwA4QPkCgAOUbytx5MgR1yNENfLzhvxOn8/MzPUQAHCmYeULAA5QvgBaRFlZmV5++WXXY0QMyhcIg3/84x/q0aOHJk2a5HqUiFVUVKSMjAzXY0QMyjcClJWVac6cOVqxYoWzGTZs2KA//OEPOnTokLMZotmYMWO0evVqHT9+3PUoEev888/XrFmzXI8RMShfh2pra7Vs2TL17dtXbdu21S9+8Yt692vsa6KN2a+hfVJSUtSrVy/169dPS5cuVSAQaNRzRisvWUWTk51DuM/vVMfz+/2aPXt2WI7V2H0iGeXryJYtWzRw4EDl5+frtdde04wZM3TWWWcF7y8vL9cf//hH9e3bV/Hx8Ro9erTGjRunTz/9NOQ4xcXF+s1vfqNevXopPj5e1113nfbv31/n+ZYuXaqrr75aPXv21LBhw/SnP/1Jubm5wfvbtWun2267Te+//74KCgrUr18/vfjii80XQBgdPXpUEyZMULdu3dStWzeNHTtWzz//vNLS0jR58uTgfpWVlZo1a5Z69+6t+Ph4/eQnP9Err7xS53hvv/220tPTFR8fr969e2vSpEk6evRoyD5HjhzR+PHjddlll+myyy7T+PHj9c033zT7udZn48aNSktL0+9+9zv16tVLvXv31vr165Wenq6ePXvqkUceCdm/Mec3btw4paWlacmSJSotLdX48ePVu3dv3XLLLcHznDp1qtLT0/X888/ryiuv1IUXXqi0tDTt3bs35FjFxcVKT09XWlqahg4dWu85rFixQmlpaVq1apWGDRumnj17qm/fvvrnP/8Zsl9tba2WLFmiXr16qWvXrho2bJjefPNNpaWladiwYaqurvYaZ8sxtKiioiLLzMy0gQMH2ltvvdXgftOmTbM777zTjh49amZm+/bts+7du9s777wT3Ofw4cOWkJBga9euDW7Lz8+3uLg4++yzz4Lb1q9fbykpKVZcXGxmZgcPHrSRI0faokWLGnz+jz76yDIyMmzEiBG2Z8+eJp9vc6utrbXhw4fblClTrLi42A4fPmwPPPCASbLZs2dbdXV1cN+RI0farFmzrKqqysy+zXTAgAH2wgsvBPfZtm2bJSYm2gcffGBmZjU1NbZkyRJLTk62QCBgZmbl5eWWkpJiy5cvDz5u+fLlFhsbaxMmTGiJ0w5x/Phxu++++ywuLs4+//xze+WVV0yS5ebmWmVlpSUmJlpFRUWjz8/MrLKy0l599VUbMGCAJSUl2fLly626utpWrlxpRUVFZmZWVVVliYmJlpSUZMXFxVZbW2u5ubnWv3//OjOWl5dbWVmZJSQk1HsONTU1NmnSJJNkW7duNTOzwsJC8/v9VlpaGtzvnnvusWuuucY++OADq66utnXr1pnf77eUlBQ7duxYeAJtIZRvCzpw4ID5/X5LTk4+5W+Uv//97zZ8+HB77bXX7PDhw2b2bSGWl5cH95k/f7498MADdR67cuVKmzhxYvD2hx9+aHFxcZabmxss4JKSEvv0009POkMgELCRI0dabGys7dq1q9Hn2ZLef/996969u9XU1IRsz8jIsL/85S/B21u3brWRI0fWeXxRUZElJSWFPG779u119hs/frytWbPGzMyeffZZmzlzZp19ZsyY4aR8zcyys7PtscceMzOzQ4cOWWpqavC+jIwMO3jwYPD7U53fCdu2bbO4uDjbt29fg8/bv39/O3ToUMi2hISEkL/0visxMbHBY02ZMsWeffbZkG0TJ060jRs3mtm3f8nExsZaYWFhyD7z58+3IUOGNHjcSMVlhxZ00UUXqaCgQOnp6erXr5+efPLJBl+gufnmm3XTTTdp9erV+vd//3d169ZNzzzzjNq1axfcZ+fOnRo0aFCdxyYnJ2vHjh3B25dffrmefvppvfHGG7r55pvVrVs3TZkyJeQyx3eZmZ577jldeeWVuuSSS7R//3716dPH49k3j6KiIv385z9X27ZtQ7anp6eH3P7oo4/qbJOkHj16qLKyMniNe9++fbriiivq7Jeamqrdu3dLkrZu3ark5OQ6+1x11VVNPo9waNOmTb3ff1djzu+7RowYofj4+JM+79lnnx1yu2vXrk2+Htu1a9eQ2507dw4e68iRI7rgggsUFxcXss9Pf/rTJj2Xa5RvC+vatavmzJmjV199VZs2bdKPf/zjeq+tbtmyRdddd50WL16sTZs2qbCwUO+//76efPLJ4D6XXnppnetrkrR//35deumlwdvvvPOO+vXrp/nz5ys3N1cHDhzQD3/4Q9155511Hrt582alpKRoxYoVWrt2rRYtWiS/3x+msw+/Pn36aPny5aqoqAjZvmzZspDbPXr00J49e+o8vry8XDU1NcG/1Px+v4qLi+vst3fvXvXo0UOSlJiYWO919Y8//rjJ59FSGnN+keq8885TWVmZ3nnnnZDtq1evdjSRN5SvIxdddJH++te/atmyZfrb3/6m9PT0kCJNTk7Wvn37gre7dOmiCy64QOXl5cFtWVlZmjFjRkgRFBcXa8KECbr11luD2/785z+HvI0tJiZGF198ccixioqK9Mtf/lIzZ87U/fffryeffFK9evUK+3mHW3x8vMaOHatRo0Zpw4YN2rZtm8aOHasvvvgiZL9BgwZpy5YtWr9+fXBbZWWlxo0bp9tvvz247Y477tBNN90U8gLUm2++qSeeeELXXHONJGno0KFaunRpSJnv3r1b06ZNa67TDJvGnF8ke/DBB5WVlaVly5Zp7969mjNnjtatWxedb/FzfNkD/7/Nmzfbu+++G7ydkJBgN954o40cOdIyMzMtMTHRfvvb34a8KGJmtnHjRktISLDrr7/ebrzxRouLi7NnnnkmZJ/MzEzLzMy0a6+91saMGWP9+/e3jIyMkGu+u3fvtry8vOY9yWZSW1trDz30kGVkZFhGRobdd999tnbt2pBrvmZmn3zyiaWkpNjgwYNtzJgxFhcXZ3fddZcdP348ZL+lS5daXFycjR492kaMGGH9+/e3nTt3huyzc+dOS0xMtFGjRtmoUaMsKSnJcnJyLDY2tt5ry80pLy/P/H6/+f1+e/311620tNQk2dSpU83MbPjw4ZaUlGSVlZWNOr/CwkIbMGCAJSQkWGxsrCUmJlpiYqINHz485HlTU1NNkiUlJdmBAwfMzOz22283SZacnGy1tbVmZpaVlRU8hqTg9ykpKcFjTZ061WJjY6179+7BF0Aff/zx4LaCgoLgvhs2bLBRo0ZZcnKyTZkyxQoKCqLymi8frBPhysrK9PHHHysxMVExMTH17lNTU6PCwkLV1NQoISEh5Lrw/73frl27FB8f3+D13tbi8ccf1+HDh/X73/++zn0HDhxQSUmJEhIS1KVLl3ofX1FRoYKCAnXt2lWXXHKJfD5fvfsVFhaqTZs2+v73vx/W+ZtbY88vGhQWFmry5Ml65plnXI9yWihftDolJSUaNGiQVqxYUe+LS2g9qqurNXbsWF111VW67bbbXI9zWrjmi1bh/vvvV9++fXXZZZfpRz/6ke6++26Kt5XatGmT+vbtq759+6pHjx665JJLQl7jiBasfNEqmJlqa2slqc7bztD6nHiBLZp/rSlfAHCAyw4A4ADlCwAO/G+Hy43EDUv17gAAAABJRU5ErkJggg==)"
      ],
      "metadata": {
        "id": "KVxetIMSCFzH"
      }
    },
    {
      "cell_type": "code",
      "source": [
        "class Decoder(nn.Module):\n",
        "  def __init__(self, output_dim, emb_dim, hid_dim, n_layers, dropout):\n",
        "    super().__init__()\n",
        "\n",
        "    self.output_dim = output_dim\n",
        "    self.hid_dim = hid_dim\n",
        "    self.n_layers = n_layers\n",
        "\n",
        "    self.embedding = nn.Embedding(output_dim, emb_dim)\n",
        "\n",
        "    self.rnn = nn.LSTM(emb_dim, hid_dim, n_layers, dropout = dropout)\n",
        "\n",
        "    self.fc_out = nn.Linear(hid_dim, output_dim)\n",
        "\n",
        "    self.dropout = nn.Dropout(dropout)\n",
        "\n",
        "  def forward(self, input, hidden, cell):\n",
        "    # 지정한 dimension 자리에 size가 1인 빈 공간을 채워주면서 차원을 확장\n",
        "    input = input.unsqueeze(0)\n",
        "\n",
        "    embedded = self.dropout(self.embedding(input))\n",
        "\n",
        "    output, (hidden, cell) = self.rnn(embedded, (hidden, cell))\n",
        "\n",
        "    prediction = self.fc_out(output.squeeze(0))\n",
        "\n",
        "    return prediction, hidden, cell"
      ],
      "metadata": {
        "id": "UifcGWzaA4NX"
      },
      "execution_count": 25,
      "outputs": []
    },
    {
      "cell_type": "markdown",
      "source": [
        "## Seq2Seq"
      ],
      "metadata": {
        "id": "X6ZD1afXGKGC"
      }
    },
    {
      "cell_type": "code",
      "source": [
        "class Seq2Seq(nn.Module):\n",
        "  def __init__(self, encoder, decoder, device):\n",
        "    super().__init__()\n",
        "\n",
        "    self.encoder = encoder\n",
        "    self.decoder = decoder\n",
        "    self.device = device\n",
        "\n",
        "    assert encoder.hid_dim == decoder.hid_dim, \\\n",
        "      \"Hidden dimensions of encoder and decoder must be equal!\"\n",
        "    assert encoder.n_layers == decoder.n_layers, \\\n",
        "      \"Encoder and decoder must have equal number of layers!\"\n",
        "    \n",
        "  def forward(self, src, trg, teacher_forcing_ratio = 0.5):\n",
        "    batch_size = trg.shape[1]\n",
        "    trg_len = trg.shape[0]\n",
        "    trg_vocab_size = self.decoder.output_dim\n",
        "    # 사이즈를 맞추기 위한 제로패딩\n",
        "    outputs = torch.zeros(trg_len, batch_size, trg_vocab_size).to(self.device)\n",
        "\n",
        "    hidden, cell = self.encoder(src)\n",
        "    input = trg[0, :]\n",
        "\n",
        "    for t in range(1, trg_len):\n",
        "      output, hidden, cell = self.decoder(input, hidden, cell)\n",
        "\n",
        "      outputs[t] = output\n",
        "\n",
        "      teacher_force = random.random() < teacher_forcing_ratio\n",
        "\n",
        "      top1 = output.argmax(1)\n",
        "\n",
        "      input = trg[t] if teacher_force else top1\n",
        "\n",
        "    return outputs"
      ],
      "metadata": {
        "id": "JcP44ykYCcQS"
      },
      "execution_count": 20,
      "outputs": []
    },
    {
      "cell_type": "markdown",
      "source": [
        "### Train Model"
      ],
      "metadata": {
        "id": "Wnu2NnKFHE2j"
      }
    },
    {
      "cell_type": "code",
      "source": [
        "INPUT_DIM = len(SRC.vocab)\n",
        "OUTPUT_DIM = len(TRG.vocab)\n",
        "ENC_EMB_DIM = 256\n",
        "DEC_EMB_DIM = 256\n",
        "HID_DIM = 512\n",
        "N_LAYERS = 2\n",
        "ENC_DROPOUT = 0.5\n",
        "DEC_DROPOUT = 0.5\n",
        "\n",
        "enc = Encoder(INPUT_DIM, ENC_EMB_DIM, HID_DIM, N_LAYERS, ENC_DROPOUT)\n",
        "dec = Decoder(OUTPUT_DIM, DEC_EMB_DIM, HID_DIM, N_LAYERS, DEC_DROPOUT)\n",
        "\n",
        "model = Seq2Seq(enc, dec, device).to(device)"
      ],
      "metadata": {
        "id": "J6LvCKnTGH_N"
      },
      "execution_count": 26,
      "outputs": []
    },
    {
      "cell_type": "code",
      "source": [
        "def init_weights(m):\n",
        "    for name, param in m.named_parameters():\n",
        "        nn.init.uniform_(param.data, -0.08, 0.08)\n",
        "        \n",
        "model.apply(init_weights)\n",
        "\n",
        "def count_parameters(model):\n",
        "    return sum(p.numel() for p in model.parameters() if p.requires_grad)\n",
        "\n",
        "print(f'The model has {count_parameters(model):,} trainable parameters')\n",
        "\n",
        "optimizer = optim.Adam(model.parameters())\n",
        "\n",
        "TRG_PAD_IDX = TRG.vocab.stoi[TRG.pad_token]\n",
        "\n",
        "criterion = nn.CrossEntropyLoss(ignore_index = TRG_PAD_IDX)"
      ],
      "metadata": {
        "colab": {
          "base_uri": "https://localhost:8080/"
        },
        "id": "3OZyReftGTzL",
        "outputId": "4e1ba7c6-2fb3-4eb7-c6b8-6fe595ab43db"
      },
      "execution_count": 27,
      "outputs": [
        {
          "output_type": "stream",
          "name": "stdout",
          "text": [
            "The model has 13,897,476 trainable parameters\n"
          ]
        }
      ]
    },
    {
      "cell_type": "code",
      "source": [
        "def train(model, iterator, optimizer, criterion, clip):\n",
        "    \n",
        "    model.train()\n",
        "    \n",
        "    epoch_loss = 0\n",
        "    \n",
        "    for i, batch in enumerate(iterator):\n",
        "        \n",
        "        src = batch.src\n",
        "        trg = batch.trg\n",
        "        \n",
        "        optimizer.zero_grad()\n",
        "        \n",
        "        output = model(src, trg)\n",
        "        \n",
        "        #trg = [trg len, batch size]\n",
        "        #output = [trg len, batch size, output dim]\n",
        "        \n",
        "        output_dim = output.shape[-1]\n",
        "        \n",
        "        output = output[1:].view(-1, output_dim)\n",
        "        trg = trg[1:].view(-1)\n",
        "        \n",
        "        #trg = [(trg len - 1) * batch size]\n",
        "        #output = [(trg len - 1) * batch size, output dim]\n",
        "        \n",
        "        loss = criterion(output, trg)\n",
        "        \n",
        "        loss.backward()\n",
        "        \n",
        "        torch.nn.utils.clip_grad_norm_(model.parameters(), clip)\n",
        "        \n",
        "        optimizer.step()\n",
        "        \n",
        "        epoch_loss += loss.item()\n",
        "        \n",
        "    return epoch_loss / len(iterator)"
      ],
      "metadata": {
        "id": "roT43u7sG7pP"
      },
      "execution_count": 28,
      "outputs": []
    },
    {
      "cell_type": "code",
      "source": [
        "def evaluate(model, iterator, criterion):\n",
        "    \n",
        "    model.eval()\n",
        "    \n",
        "    epoch_loss = 0\n",
        "    \n",
        "    with torch.no_grad():\n",
        "    \n",
        "        for i, batch in enumerate(iterator):\n",
        "\n",
        "            src = batch.src\n",
        "            trg = batch.trg\n",
        "\n",
        "            output = model(src, trg, 0) #turn off teacher forcing\n",
        "\n",
        "            #trg = [trg len, batch size]\n",
        "            #output = [trg len, batch size, output dim]\n",
        "\n",
        "            output_dim = output.shape[-1]\n",
        "            \n",
        "            output = output[1:].view(-1, output_dim)\n",
        "            trg = trg[1:].view(-1)\n",
        "\n",
        "            #trg = [(trg len - 1) * batch size]\n",
        "            #output = [(trg len - 1) * batch size, output dim]\n",
        "\n",
        "            loss = criterion(output, trg)\n",
        "            \n",
        "            epoch_loss += loss.item()\n",
        "        \n",
        "    return epoch_loss / len(iterator)"
      ],
      "metadata": {
        "id": "YqHctD2TG8-e"
      },
      "execution_count": 29,
      "outputs": []
    },
    {
      "cell_type": "code",
      "source": [
        "def epoch_time(start_time, end_time):\n",
        "    elapsed_time = end_time - start_time\n",
        "    elapsed_mins = int(elapsed_time / 60)\n",
        "    elapsed_secs = int(elapsed_time - (elapsed_mins * 60))\n",
        "    return elapsed_mins, elapsed_secs"
      ],
      "metadata": {
        "id": "JzN4kseIG9XX"
      },
      "execution_count": 30,
      "outputs": []
    },
    {
      "cell_type": "code",
      "source": [
        "N_EPOCHS = 10\n",
        "CLIP = 1\n",
        "\n",
        "best_valid_loss = float('inf')\n",
        "\n",
        "for epoch in range(N_EPOCHS):\n",
        "    \n",
        "    start_time = time.time()\n",
        "    \n",
        "    train_loss = train(model, train_iterator, optimizer, criterion, CLIP)\n",
        "    valid_loss = evaluate(model, valid_iterator, criterion)\n",
        "    \n",
        "    end_time = time.time()\n",
        "    \n",
        "    epoch_mins, epoch_secs = epoch_time(start_time, end_time)\n",
        "    \n",
        "    if valid_loss < best_valid_loss:\n",
        "        best_valid_loss = valid_loss\n",
        "        torch.save(model.state_dict(), 'tut1-model.pt')\n",
        "    \n",
        "    print(f'Epoch: {epoch+1:02} | Time: {epoch_mins}m {epoch_secs}s')\n",
        "    print(f'\\tTrain Loss: {train_loss:.3f} | Train PPL: {math.exp(train_loss):7.3f}')\n",
        "    print(f'\\t Val. Loss: {valid_loss:.3f} |  Val. PPL: {math.exp(valid_loss):7.3f}')"
      ],
      "metadata": {
        "colab": {
          "base_uri": "https://localhost:8080/"
        },
        "id": "66SJm8AmG-tu",
        "outputId": "34993c02-a81e-475f-8820-e316424eef4f"
      },
      "execution_count": 31,
      "outputs": [
        {
          "output_type": "stream",
          "name": "stdout",
          "text": [
            "Epoch: 01 | Time: 0m 38s\n",
            "\tTrain Loss: 5.050 | Train PPL: 155.950\n",
            "\t Val. Loss: 5.015 |  Val. PPL: 150.600\n",
            "Epoch: 02 | Time: 0m 36s\n",
            "\tTrain Loss: 4.524 | Train PPL:  92.196\n",
            "\t Val. Loss: 5.065 |  Val. PPL: 158.372\n",
            "Epoch: 03 | Time: 0m 36s\n",
            "\tTrain Loss: 4.276 | Train PPL:  71.978\n",
            "\t Val. Loss: 4.709 |  Val. PPL: 110.927\n",
            "Epoch: 04 | Time: 0m 37s\n",
            "\tTrain Loss: 4.062 | Train PPL:  58.117\n",
            "\t Val. Loss: 4.598 |  Val. PPL:  99.332\n",
            "Epoch: 05 | Time: 0m 37s\n",
            "\tTrain Loss: 3.881 | Train PPL:  48.491\n",
            "\t Val. Loss: 4.483 |  Val. PPL:  88.542\n",
            "Epoch: 06 | Time: 0m 38s\n",
            "\tTrain Loss: 3.740 | Train PPL:  42.083\n",
            "\t Val. Loss: 4.283 |  Val. PPL:  72.427\n",
            "Epoch: 07 | Time: 0m 37s\n",
            "\tTrain Loss: 3.615 | Train PPL:  37.138\n",
            "\t Val. Loss: 4.212 |  Val. PPL:  67.515\n",
            "Epoch: 08 | Time: 0m 36s\n",
            "\tTrain Loss: 3.479 | Train PPL:  32.418\n",
            "\t Val. Loss: 4.097 |  Val. PPL:  60.131\n",
            "Epoch: 09 | Time: 0m 36s\n",
            "\tTrain Loss: 3.352 | Train PPL:  28.563\n",
            "\t Val. Loss: 4.006 |  Val. PPL:  54.937\n",
            "Epoch: 10 | Time: 0m 36s\n",
            "\tTrain Loss: 3.261 | Train PPL:  26.079\n",
            "\t Val. Loss: 3.981 |  Val. PPL:  53.594\n"
          ]
        }
      ]
    }
  ]
}